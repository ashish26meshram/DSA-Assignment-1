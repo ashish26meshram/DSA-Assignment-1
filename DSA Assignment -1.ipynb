{
 "cells": [
  {
   "cell_type": "markdown",
   "id": "51be1a60",
   "metadata": {},
   "source": [
    "# Q1"
   ]
  },
  {
   "cell_type": "code",
   "execution_count": 141,
   "id": "93b08508",
   "metadata": {},
   "outputs": [
    {
     "name": "stdout",
     "output_type": "stream",
     "text": [
      "2 9\n",
      "Pairs whose sum is :  11\n",
      "Array=  [9, 2, 6, 5, 7, 4, 8, 3]\n",
      "5 6\n",
      "Pairs whose sum is :  11\n",
      "Array=  [9, 2, 6, 5, 7, 4, 8, 3]\n",
      "4 7\n",
      "Pairs whose sum is :  11\n",
      "Array=  [9, 2, 6, 5, 7, 4, 8, 3]\n",
      "3 8\n",
      "Pairs whose sum is :  11\n",
      "Array=  [9, 2, 6, 5, 7, 4, 8, 3]\n"
     ]
    }
   ],
   "source": [
    "#Write a program to find all pairs of an integer array whose sum is equal to a given number?\n",
    "def find(array, len, summ):\n",
    "    for i in range(len):\n",
    "        for j in range(i):\n",
    "            if (array[i] + array[j]) == summ:\n",
    "                print(array[i], array[j])\n",
    "                print(\"Pairs whose sum is : \", summ)\n",
    "                print(\"Array= \", array)\n",
    "\n",
    "array = [9,2,6,5,7,4,8,3]\n",
    "summ = 11\n",
    "\n",
    "find(array, len(array), summ)"
   ]
  },
  {
   "cell_type": "markdown",
   "id": "3751e5ae",
   "metadata": {},
   "source": [
    "# Q2"
   ]
  },
  {
   "cell_type": "code",
   "execution_count": 37,
   "id": "424a7462",
   "metadata": {},
   "outputs": [
    {
     "name": "stdout",
     "output_type": "stream",
     "text": [
      "Before reversal Array is : [20, 12, 23, 25, 24, 26, 23]\n",
      "After reversing Array: [23, 26, 24, 25, 23, 12, 20]\n"
     ]
    }
   ],
   "source": [
    "#Write a program to reverse an array in place? In place means you cannot create a new array. You have to update the original array.\n",
    "array=[20,12,23,25,24,26,23]\n",
    "print(\"Before reversal Array is :\",array)\n",
    "\n",
    "array.reverse()\n",
    "print(\"After reversing Array:\",array)"
   ]
  },
  {
   "cell_type": "markdown",
   "id": "fdfead73",
   "metadata": {},
   "source": [
    "# Q3"
   ]
  },
  {
   "cell_type": "code",
   "execution_count": 60,
   "id": "2a9d12bf",
   "metadata": {},
   "outputs": [
    {
     "name": "stdout",
     "output_type": "stream",
     "text": [
      "Strings are rotations of each other\n"
     ]
    }
   ],
   "source": [
    "#Write a program to check if two strings are a rotation of each other?\n",
    "def areRotations(string1, string2):\n",
    "    size1 = len(string1)\n",
    "    size2 = len(string2)\n",
    "    temp = ''\n",
    " \n",
    "    if size1 != size2:\n",
    "        return 0\n",
    "    temp = string1 + string1\n",
    "\n",
    "    if string2 in temp: \n",
    "        return True\n",
    "    else: \n",
    "        return False\n",
    "string1 = \"abac\"\n",
    "string2 = \"caba\"\n",
    " \n",
    "if areRotations(string1, string2):\n",
    "    print (\"Strings are rotations of each other\")\n",
    "else:\n",
    "    print (\"Strings are not rotations of each other\")"
   ]
  },
  {
   "cell_type": "markdown",
   "id": "32d17115",
   "metadata": {},
   "source": [
    "# Q4"
   ]
  },
  {
   "cell_type": "code",
   "execution_count": 63,
   "id": "2ce5b676",
   "metadata": {},
   "outputs": [
    {
     "name": "stdout",
     "output_type": "stream",
     "text": [
      "a i "
     ]
    }
   ],
   "source": [
    "#Write a program to print the first non-repeated character from a string?\n",
    "String = \"ashish\"\n",
    "for i in String:\n",
    "    count = 0\n",
    "    for j in String:\n",
    "        if i == j:\n",
    "            count+=1\n",
    "\n",
    "        if count > 1:\n",
    "            break\n",
    "    if count == 1:\n",
    "        print(i,end = \" \")"
   ]
  },
  {
   "cell_type": "markdown",
   "id": "c23e6383",
   "metadata": {},
   "source": [
    "# Q5"
   ]
  },
  {
   "cell_type": "code",
   "execution_count": 131,
   "id": "44cde0d1",
   "metadata": {},
   "outputs": [
    {
     "name": "stdout",
     "output_type": "stream",
     "text": [
      "Disk Move 1 from source A to Destination B\n",
      "Disk Move 2 from source A to Destination C\n",
      "Disk Move 1 from source B to Destination C\n",
      "Disk Move 3 from source A to Destination B\n",
      "Disk Move 1 from source C to Destination A\n",
      "Disk Move 2 from source C to Destination B\n",
      "Disk Move 1 from source A to Destination B\n"
     ]
    }
   ],
   "source": [
    "#Read about the Tower of Hanoi algorithm. Write a program to implement it.\n",
    "def Tower_Of_Hanoi(n , source, destination, auxiliary):\n",
    "    if n==1:\n",
    "        print (\"Disk Move 1 from source\",source,\"to Destination\",destination)\n",
    "        return\n",
    "    Tower_Of_Hanoi(n-1, source, auxiliary, destination)\n",
    "    print (\"Disk Move\",n,\"from source\",source,\"to Destination\",destination)\n",
    "    Tower_Of_Hanoi(n-1, auxiliary, destination, source)\n",
    "         \n",
    "n = 3\n",
    "Tower_Of_Hanoi(n,'A','B','C')"
   ]
  },
  {
   "cell_type": "markdown",
   "id": "4a07feb0",
   "metadata": {},
   "source": [
    "# Q6"
   ]
  },
  {
   "cell_type": "code",
   "execution_count": 121,
   "id": "85da1c79",
   "metadata": {},
   "outputs": [
    {
     "name": "stdout",
     "output_type": "stream",
     "text": [
      "Prefix :  -DY+FV\n"
     ]
    }
   ],
   "source": [
    "# Read about infix, prefix, and postfix expressions. Write a program to convert postfix to prefix expression.\n",
    "def Operators(x):\n",
    " \n",
    "    if x == \"+\":\n",
    "        return True\n",
    " \n",
    "    if x == \"-\":\n",
    "        return True\n",
    " \n",
    "    if x == \"/\":\n",
    "        return True\n",
    " \n",
    "    if x == \"*\":\n",
    "        return True\n",
    " \n",
    "    return False\n",
    " \n",
    "def postToPre(post_exp):\n",
    " \n",
    "    s = []\n",
    "    length = len(post_exp)\n",
    " \n",
    "    for i in range(length):\n",
    " \n",
    "        if (Operators(post_exp[i])):\n",
    " \n",
    "            \n",
    "            op1 = s[-1]\n",
    "            s.pop()\n",
    "            op2 = s[-1]\n",
    "            s.pop()\n",
    " \n",
    "            \n",
    "            temp = post_exp[i] + op2 + op1\n",
    "            s.append(temp)\n",
    " \n",
    "        else:\n",
    "            s.append(post_exp[i])\n",
    " \n",
    "    \n",
    "    ans = \"\"\n",
    "    for i in s:\n",
    "        ans += i\n",
    "    return ans\n",
    " \n",
    " \n",
    "\n",
    "if __name__ == \"__main__\":\n",
    " \n",
    "    post_exp = \"DY-FV+\"\n",
    "     \n",
    "    \n",
    "    print(\"Prefix : \", postToPre(post_exp))"
   ]
  },
  {
   "cell_type": "markdown",
   "id": "e7adc051",
   "metadata": {},
   "source": [
    "# Q7"
   ]
  },
  {
   "cell_type": "code",
   "execution_count": 136,
   "id": "7d519384",
   "metadata": {},
   "outputs": [
    {
     "name": "stdout",
     "output_type": "stream",
     "text": [
      "((K-(B/C))*((J/K)-M))\n"
     ]
    }
   ],
   "source": [
    "#Write a program to convert prefix expression to infix expression.\n",
    "def prefix_To_Infix(prefix):\n",
    "    stack = []\n",
    "     \n",
    "    \n",
    "    i = len(prefix) - 1\n",
    "    while i >= 0:\n",
    "        if not Operator(prefix[i]):\n",
    "             \n",
    "        \n",
    "            stack.append(prefix[i])\n",
    "            i -= 1\n",
    "        else:\n",
    "           \n",
    "            \n",
    "            str = \"(\" + stack.pop() + prefix[i] + stack.pop() + \")\"\n",
    "            stack.append(str)\n",
    "            i -= 1\n",
    "     \n",
    "    return stack.pop()\n",
    " \n",
    "def Operator(c):\n",
    "    if c == \"*\" or c == \"+\" or c == \"-\" or c == \"/\" or c == \"^\" or c == \"(\" or c == \")\":\n",
    "        return True\n",
    "    else:\n",
    "        return False\n",
    " \n",
    "\n",
    "if __name__==\"__main__\":\n",
    "    str = \"*-K/BC-/JKM\"\n",
    "    print(prefix_To_Infix(str))"
   ]
  },
  {
   "cell_type": "markdown",
   "id": "1f2838c2",
   "metadata": {},
   "source": [
    "# Q8"
   ]
  },
  {
   "cell_type": "code",
   "execution_count": 70,
   "id": "e901901c",
   "metadata": {},
   "outputs": [
    {
     "name": "stdout",
     "output_type": "stream",
     "text": [
      "Balanced\n"
     ]
    }
   ],
   "source": [
    "#Write a program to check if all the brackets are closed in a given code snippet.\n",
    "def Balanced_Bracket(expr):\n",
    "    string = []\n",
    "    for char in expr:\n",
    "        if char in [\"(\", \"{\", \"[\"]:\n",
    "            string.append(char)\n",
    "        else:\n",
    "            \n",
    "            if not string:\n",
    "                return False\n",
    "            current_char = string.pop()\n",
    "            \n",
    "            if current_char == '(':\n",
    "                if char != \")\":\n",
    "                    return False\n",
    "            \n",
    "            if current_char == '{':\n",
    "                if char != \"}\":\n",
    "                    return False\n",
    "            \n",
    "            if current_char == '[':\n",
    "                if char != \"]\":\n",
    "                    return False\n",
    " \n",
    "    if string:\n",
    "        return False\n",
    "    return True\n",
    " \n",
    "if __name__ == \"__main__\":\n",
    "    expr = \"{}[]()\"\n",
    " \n",
    "    if Balanced_Bracket(expr):\n",
    "        print(\"Balanced\")\n",
    "    else:\n",
    "        print(\"Not Balanced\")"
   ]
  },
  {
   "cell_type": "markdown",
   "id": "ffe9a06f",
   "metadata": {},
   "source": [
    "# Q9"
   ]
  },
  {
   "cell_type": "code",
   "execution_count": 140,
   "id": "facd76ad",
   "metadata": {},
   "outputs": [
    {
     "name": "stdout",
     "output_type": "stream",
     "text": [
      "Enter the elements to add to the stack: 15 36 25 45 63 85 96 36 35 25 \n",
      "The reversed stack is:\n",
      "25\n",
      "35\n",
      "36\n",
      "96\n",
      "85\n",
      "63\n",
      "45\n",
      "25\n",
      "36\n",
      "15\n",
      "The stack is:\n",
      "15\n",
      "36\n",
      "25\n",
      "45\n",
      "63\n",
      "85\n",
      "96\n",
      "36\n",
      "35\n",
      "25\n"
     ]
    }
   ],
   "source": [
    "#Write a program to reverse a stack.\n",
    "class Reerse_Stack:\n",
    "    def __init__(self):\n",
    "        self.items = []\n",
    "    def check_empty(self):\n",
    "        return self.items == []\n",
    "    def push_val(self, data):\n",
    "        self.items.append(data)\n",
    "    def pop_val(self):\n",
    "        return self.items.pop()\n",
    "    def print_it(self):\n",
    "        for data in reversed(self.items):\n",
    "            print(data)\n",
    "\n",
    "def insert_bottom(instance, data):\n",
    "    if instance.check_empty():\n",
    "        instance.push_val(data)\n",
    "    else:\n",
    "        deleted_elem = instance.pop_val()\n",
    "        insert_bottom(instance, data)\n",
    "        instance.push_val(deleted_elem)\n",
    "def stack_reverse(instance):\n",
    "    if not instance.check_empty():\n",
    "        deleted_elem = instance.pop_val()\n",
    "        stack_reverse(instance)\n",
    "        insert_bottom(instance, deleted_elem)\n",
    "\n",
    "my_instance = Stack_structure()\n",
    "data_list = input('Enter the elements to add to the stack: ').split()\n",
    "for data in data_list:\n",
    "    my_instance.push_val(int(data))\n",
    "\n",
    "print('The reversed stack is:')\n",
    "my_instance.print_it()\n",
    "stack_reverse(my_instance)\n",
    "print('The stack is:')\n",
    "my_instance.print_it()"
   ]
  },
  {
   "cell_type": "markdown",
   "id": "1c33d835",
   "metadata": {},
   "source": [
    "# Q10"
   ]
  },
  {
   "cell_type": "code",
   "execution_count": 137,
   "id": "d063173a",
   "metadata": {},
   "outputs": [
    {
     "name": "stdout",
     "output_type": "stream",
     "text": [
      "Smallest number is: 21\n"
     ]
    }
   ],
   "source": [
    "#. Write a program to find the smallest number using a stack.\n",
    "list1 = [25,23,65,69,75,63,21]\n",
    "list1.sort()\n",
    "print(\"Smallest number is:\", list1[0])"
   ]
  }
 ],
 "metadata": {
  "kernelspec": {
   "display_name": "Python 3 (ipykernel)",
   "language": "python",
   "name": "python3"
  },
  "language_info": {
   "codemirror_mode": {
    "name": "ipython",
    "version": 3
   },
   "file_extension": ".py",
   "mimetype": "text/x-python",
   "name": "python",
   "nbconvert_exporter": "python",
   "pygments_lexer": "ipython3",
   "version": "3.9.13"
  }
 },
 "nbformat": 4,
 "nbformat_minor": 5
}
